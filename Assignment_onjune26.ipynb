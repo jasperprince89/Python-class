{
  "nbformat": 4,
  "nbformat_minor": 0,
  "metadata": {
    "colab": {
      "name": "Assignment onjune26.ipynb",
      "provenance": [],
      "authorship_tag": "ABX9TyMuVUHVypF+Hqe4tsQEKS2J",
      "include_colab_link": true
    },
    "kernelspec": {
      "name": "python3",
      "display_name": "Python 3"
    }
  },
  "cells": [
    {
      "cell_type": "markdown",
      "metadata": {
        "id": "view-in-github",
        "colab_type": "text"
      },
      "source": [
        "<a href=\"https://colab.research.google.com/github/jasperprince89/Python-class/blob/master/Assignment_onjune26.ipynb\" target=\"_parent\"><img src=\"https://colab.research.google.com/assets/colab-badge.svg\" alt=\"Open In Colab\"/></a>"
      ]
    },
    {
      "cell_type": "code",
      "metadata": {
        "id": "RSZDeHXg3h-q",
        "colab_type": "code",
        "colab": {
          "base_uri": "https://localhost:8080/",
          "height": 50
        },
        "outputId": "f382b446-e445-4da8-98df-de09009cc0de"
      },
      "source": [
        "# Python program to calculate the length of a string.\n",
        "\n",
        "str = input(\"Enter a string: \")\n",
        "\n",
        "counter = 0\n",
        "for s in str:\n",
        "      counter = counter+1\n",
        "print(\"Length of the input string is:\", counter)"
      ],
      "execution_count": null,
      "outputs": [
        {
          "output_type": "stream",
          "text": [
            "Enter a string: prince\n",
            "Length of the input string is: 6\n"
          ],
          "name": "stdout"
        }
      ]
    },
    {
      "cell_type": "code",
      "metadata": {
        "id": "eSY5vyG83rsw",
        "colab_type": "code",
        "colab": {
          "base_uri": "https://localhost:8080/",
          "height": 34
        },
        "outputId": "4c0dcf64-1b14-4b44-993c-f966a758b573"
      },
      "source": [
        "# Pyhton program to count the number of characters(character frequency in a string).\n",
        "\n",
        "def char_frequency(str1):\n",
        "    dict = {}\n",
        "    for n in str1:\n",
        "        keys = dict.keys()\n",
        "        if n in keys:\n",
        "            dict[n] += 1\n",
        "        else:\n",
        "            dict[n] = 1\n",
        "    return dict\n",
        "print(char_frequency('prince'))"
      ],
      "execution_count": null,
      "outputs": [
        {
          "output_type": "stream",
          "text": [
            "{'p': 1, 'r': 1, 'i': 1, 'n': 1, 'c': 1, 'e': 1}\n"
          ],
          "name": "stdout"
        }
      ]
    },
    {
      "cell_type": "code",
      "metadata": {
        "id": "Zn9b_8it31ZY",
        "colab_type": "code",
        "colab": {
          "base_uri": "https://localhost:8080/",
          "height": 34
        },
        "outputId": "ec8e3a15-8603-438c-cfd3-70f0575bb539"
      },
      "source": [
        "# Python program to get a single string from two given strings,seperated by a space and swap the first two characters of each string.\n",
        "\n",
        "def chars_mix_up(a, b):\n",
        "  new_a = b[:2] + a[2:]\n",
        "  new_b = a[:2] + b[2:]\n",
        "\n",
        "  return new_a + ' ' + new_b\n",
        "print(chars_mix_up('qwerty', 'keyboard'))"
      ],
      "execution_count": null,
      "outputs": [
        {
          "output_type": "stream",
          "text": [
            "keerty qwyboard\n"
          ],
          "name": "stdout"
        }
      ]
    },
    {
      "cell_type": "code",
      "metadata": {
        "id": "23b6Kr7j35Ko",
        "colab_type": "code",
        "colab": {
          "base_uri": "https://localhost:8080/",
          "height": 67
        },
        "outputId": "609cd102-c6ad-4027-dc2d-653e2dba078c"
      },
      "source": [
        "# Python program script that takes input from the user and displays that input back in upper and lower cases.\n",
        "\n",
        "user_input = input(\"What's your name? \")\n",
        "print(\"My name is \", user_input.upper())\n",
        "print(\"My name is \", user_input.lower())"
      ],
      "execution_count": null,
      "outputs": [
        {
          "output_type": "stream",
          "text": [
            "What's your name? prince\n",
            "My name is  PRINCE\n",
            "My name is  prince\n"
          ],
          "name": "stdout"
        }
      ]
    },
    {
      "cell_type": "code",
      "metadata": {
        "id": "LZ_q34MP3-wf",
        "colab_type": "code",
        "colab": {
          "base_uri": "https://localhost:8080/",
          "height": 67
        },
        "outputId": "2d579f90-deea-4dd4-d48a-0a8446309599"
      },
      "source": [
        "\n",
        "# Python program to remove a newline in python.\n",
        "\n",
        "str1='prince\\n'\n",
        "print(str1)\n",
        "print(str1.rstrip())"
      ],
      "execution_count": null,
      "outputs": [
        {
          "output_type": "stream",
          "text": [
            "prince\n",
            "\n",
            "prince\n"
          ],
          "name": "stdout"
        }
      ]
    },
    {
      "cell_type": "code",
      "metadata": {
        "id": "h4jmNFC44IIw",
        "colab_type": "code",
        "colab": {
          "base_uri": "https://localhost:8080/",
          "height": 34
        },
        "outputId": "84627ee3-0ae1-458d-f337-fc342e1608d3"
      },
      "source": [
        "# Python program to count occurence of a substring in a string.\n",
        "\n",
        "str1 = 'this is a program to count occurence of a substring in a string.'\n",
        "print(str1.count(\"a\"))"
      ],
      "execution_count": null,
      "outputs": [
        {
          "output_type": "stream",
          "text": [
            "4\n"
          ],
          "name": "stdout"
        }
      ]
    },
    {
      "cell_type": "code",
      "metadata": {
        "id": "suNDgJSN4MuF",
        "colab_type": "code",
        "colab": {
          "base_uri": "https://localhost:8080/",
          "height": 34
        },
        "outputId": "29be78cd-7a10-4bf2-e1b1-63eeb79310be"
      },
      "source": [
        "# Python program to convert a string in a list.\n",
        "\n",
        "def Convert(string): \n",
        "    li = list(string.split(\" \")) \n",
        "    return li   \n",
        "\n",
        "str1 = \"hi my name is prince.\"\n",
        "print(Convert(str1))"
      ],
      "execution_count": null,
      "outputs": [
        {
          "output_type": "stream",
          "text": [
            "['hi', 'my', 'name', 'is', 'prince.']\n"
          ],
          "name": "stdout"
        }
      ]
    },
    {
      "cell_type": "code",
      "metadata": {
        "id": "SfUkyf-n4THL",
        "colab_type": "code",
        "colab": {
          "base_uri": "https://localhost:8080/",
          "height": 34
        },
        "outputId": "5a6772b5-a3f1-47dc-b61e-9c549202e5c9"
      },
      "source": [
        "# Python program to perform deletion of a character.\n",
        "\n",
        "def remove(string, i):  \n",
        "   a = string[ : i]   \n",
        "   b = string[i + 1: ]  \n",
        "   return a + b  \n",
        "if __name__ == '__main__': \n",
        " string = \"programing\" \n",
        " i = 5\n",
        "print(remove(string, i))"
      ],
      "execution_count": null,
      "outputs": [
        {
          "output_type": "stream",
          "text": [
            "progrming\n"
          ],
          "name": "stdout"
        }
      ]
    },
    {
      "cell_type": "code",
      "metadata": {
        "id": "6aezQxSD4aRO",
        "colab_type": "code",
        "colab": {
          "base_uri": "https://localhost:8080/",
          "height": 34
        },
        "outputId": "0eb0ecef-6ed1-4cb0-88af-a643fc94a660"
      },
      "source": [
        "# Python program to find the length of the string \"refrigerator\" without using len function.\n",
        "\n",
        "a = \"refrigerator\"\n",
        "count = 0\n",
        "for i in a:\n",
        "  count = count+1\n",
        "print(count)"
      ],
      "execution_count": null,
      "outputs": [
        {
          "output_type": "stream",
          "text": [
            "12\n"
          ],
          "name": "stdout"
        }
      ]
    }
  ]
}