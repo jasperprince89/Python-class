{
  "nbformat": 4,
  "nbformat_minor": 0,
  "metadata": {
    "colab": {
      "name": "pythonclass_onjune21.ipynb",
      "provenance": [],
      "authorship_tag": "ABX9TyMVBE3Pq9hBYe0O19LfyJyu",
      "include_colab_link": true
    },
    "kernelspec": {
      "name": "python3",
      "display_name": "Python 3"
    }
  },
  "cells": [
    {
      "cell_type": "markdown",
      "metadata": {
        "id": "view-in-github",
        "colab_type": "text"
      },
      "source": [
        "<a href=\"https://colab.research.google.com/github/jasperprince89/Python-class/blob/master/pythonclass_onjune21.ipynb\" target=\"_parent\"><img src=\"https://colab.research.google.com/assets/colab-badge.svg\" alt=\"Open In Colab\"/></a>"
      ]
    },
    {
      "cell_type": "code",
      "metadata": {
        "id": "eWM_LRyHEulU",
        "colab_type": "code",
        "colab": {
          "base_uri": "https://localhost:8080/",
          "height": 67
        },
        "outputId": "d876333c-0891-4faf-95a3-98b1a587e437"
      },
      "source": [
        "# Python program to check wheather the given two values are equal or not.\n",
        "\n",
        "x=input(\"Enter the first value\")\n",
        "y=input(\"Enter the second value\")\n",
        "if x == y:\n",
        "  print(\"Both inputs are equal\")\n",
        "else:\n",
        "  print(\"Your input is not equal.\")"
      ],
      "execution_count": 1,
      "outputs": [
        {
          "output_type": "stream",
          "text": [
            "Enter the first value4\n",
            "Enter the second value4\n",
            "Both inputs are equal\n"
          ],
          "name": "stdout"
        }
      ]
    },
    {
      "cell_type": "code",
      "metadata": {
        "id": "2qqXOABYEzYM",
        "colab_type": "code",
        "colab": {
          "base_uri": "https://localhost:8080/",
          "height": 84
        },
        "outputId": "659fff12-5ad0-46ae-dd3e-917c72a125fc"
      },
      "source": [
        "# Python program to check wheather the given three values are All are equal or not(\"By using and\")\n",
        "\n",
        "a=input(\"Enter the value of a \")\n",
        "b=input(\"Enter the value of b \")\n",
        "c=input(\"Enter the value of c \")\n",
        "a == b and b == c"
      ],
      "execution_count": 2,
      "outputs": [
        {
          "output_type": "stream",
          "text": [
            "Enter the value of a 2\n",
            "Enter the value of b 2\n",
            "Enter the value of c 2\n"
          ],
          "name": "stdout"
        },
        {
          "output_type": "execute_result",
          "data": {
            "text/plain": [
              "True"
            ]
          },
          "metadata": {
            "tags": []
          },
          "execution_count": 2
        }
      ]
    },
    {
      "cell_type": "code",
      "metadata": {
        "id": "U2sjjGtmE97L",
        "colab_type": "code",
        "colab": {
          "base_uri": "https://localhost:8080/",
          "height": 84
        },
        "outputId": "8a9f86f6-5a23-41be-e2df-12b5759a950c"
      },
      "source": [
        "# Python program to check wheather the given three values are atleast any of two equal or not(\"By using or\")\n",
        "\n",
        "a=input(\"Enter the value of a \")\n",
        "b=input(\"Enter the value of b \")\n",
        "c=input(\"Enter the value of c \")\n",
        "a == b or b == c or c == a"
      ],
      "execution_count": 3,
      "outputs": [
        {
          "output_type": "stream",
          "text": [
            "Enter the value of a 2\n",
            "Enter the value of b 3\n",
            "Enter the value of c 2\n"
          ],
          "name": "stdout"
        },
        {
          "output_type": "execute_result",
          "data": {
            "text/plain": [
              "True"
            ]
          },
          "metadata": {
            "tags": []
          },
          "execution_count": 3
        }
      ]
    },
    {
      "cell_type": "code",
      "metadata": {
        "id": "NS1fl07FFH_8",
        "colab_type": "code",
        "colab": {
          "base_uri": "https://localhost:8080/",
          "height": 84
        },
        "outputId": "36c1cb7b-4268-4a67-c07a-dab33f8ead77"
      },
      "source": [
        "# Python program to check wheather the sum of two numbers is :\n",
        "# 1. greater than 5\n",
        "# 2. less than 5\n",
        "# 3. equal to 5\n",
        "l=int(input(\"Enter the value of l= \"))\n",
        "m=int(input(\"Enter the value of m= \"))\n",
        "sum = l + m\n",
        "print(\"the sum of l and m is\",sum)\n",
        "if sum > 5:\n",
        "  print(\"The given values sum is greater than 5 \")\n",
        "elif sum < 5:\n",
        "  print(\"The given values sum is lesser than 5 \")\n",
        "else:\n",
        "  print(\"The given values sum is equal to 5\")"
      ],
      "execution_count": 4,
      "outputs": [
        {
          "output_type": "stream",
          "text": [
            "Enter the value of l= 2\n",
            "Enter the value of m= 3\n",
            "the sum of l and m is 5\n",
            "The given values sum is equal to 5\n"
          ],
          "name": "stdout"
        }
      ]
    },
    {
      "cell_type": "code",
      "metadata": {
        "id": "mna5E79GFQX1",
        "colab_type": "code",
        "colab": {
          "base_uri": "https://localhost:8080/",
          "height": 50
        },
        "outputId": "1b069091-269d-4af7-b9b5-320c70846944"
      },
      "source": [
        "# Python program to check Suppose passing marks of a subject is 35. Take input of marks from user and check whether it is greater than passing marks or not.\n",
        "\n",
        "pasing_marks = 35\n",
        "marks = int(input(\"Enter the marks \"))\n",
        "print (\"Marks is greater than passing marks:\",marks>pasing_marks)"
      ],
      "execution_count": 5,
      "outputs": [
        {
          "output_type": "stream",
          "text": [
            "Enter the marks 38\n",
            "Marks is greater than passing marks: True\n"
          ],
          "name": "stdout"
        }
      ]
    },
    {
      "cell_type": "code",
      "metadata": {
        "id": "YFlNQIV1FYxu",
        "colab_type": "code",
        "colab": {
          "base_uri": "https://localhost:8080/",
          "height": 34
        },
        "outputId": "16aa0c13-288b-454e-92ba-5698547eb613"
      },
      "source": [
        "# Python program to find the Max of three numbers.\n",
        "\n",
        "def max_of_two( x, y ):\n",
        "    if x > y:\n",
        "        return x\n",
        "    return y\n",
        "def max_of_three( x, y, z ):\n",
        "    return max_of_two( x, max_of_two( y, z ) )\n",
        "print(max_of_three(1, 2, -5))"
      ],
      "execution_count": 6,
      "outputs": [
        {
          "output_type": "stream",
          "text": [
            "2\n"
          ],
          "name": "stdout"
        }
      ]
    },
    {
      "cell_type": "code",
      "metadata": {
        "id": "hgvUoLfxFgO0",
        "colab_type": "code",
        "colab": {}
      },
      "source": [
        ""
      ],
      "execution_count": null,
      "outputs": []
    }
  ]
}