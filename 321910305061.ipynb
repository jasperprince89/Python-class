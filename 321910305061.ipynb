{
  "nbformat": 4,
  "nbformat_minor": 0,
  "metadata": {
    "colab": {
      "name": "321910305061",
      "provenance": [],
      "collapsed_sections": [],
      "include_colab_link": true
    },
    "kernelspec": {
      "display_name": "Python 3",
      "name": "python3"
    }
  },
  "cells": [
    {
      "cell_type": "markdown",
      "metadata": {
        "id": "view-in-github",
        "colab_type": "text"
      },
      "source": [
        "<a href=\"https://colab.research.google.com/github/jasperprince89/Python-class/blob/master/321910305061.ipynb\" target=\"_parent\"><img src=\"https://colab.research.google.com/assets/colab-badge.svg\" alt=\"Open In Colab\"/></a>"
      ]
    },
    {
      "cell_type": "markdown",
      "metadata": {
        "id": "ojY5AeROSy44"
      },
      "source": [
        " Find minimum among three nunbers"
      ]
    },
    {
      "cell_type": "code",
      "metadata": {
        "id": "ugtpRSbZS36j",
        "outputId": "b43476b1-dd27-4c89-cd97-f39e0f2a267e",
        "colab": {
          "base_uri": "https://localhost:8080/",
          "height": 34
        }
      },
      "source": [
        " \n",
        "a,b,c=2,4,6\n",
        "if(a<=b and a<=c):\n",
        "  print(a,\"is the smallest\")\n",
        "elif(b<=a and b<=c):\n",
        "  print(b,\"is the smallest\")\n",
        "else:\n",
        "  print(c,\"is the smallest\")"
      ],
      "execution_count": null,
      "outputs": [
        {
          "output_type": "stream",
          "text": [
            "2 is the smallest\n"
          ],
          "name": "stdout"
        }
      ]
    },
    {
      "cell_type": "markdown",
      "metadata": {
        "id": "pf1j-MK7S-6E"
      },
      "source": [
        " Find the GCD and LCM of two/three nunbers"
      ]
    },
    {
      "cell_type": "code",
      "metadata": {
        "id": "cMZMNhjsTCD8",
        "outputId": "ae80751a-34ce-44c2-b89b-8a6b153e45d4",
        "colab": {
          "base_uri": "https://localhost:8080/",
          "height": 34
        }
      },
      "source": [
        " \n",
        "def compute_gcd(x,y):\n",
        "  while(y):\n",
        "    x,y=y,x%y\n",
        "  return x\n",
        "def compute_lcm(x,y):\n",
        "  lcm=(x*y)//compute_gcd(x,y)\n",
        "  return lcm\n",
        "num1=28\n",
        "num2=92\n",
        "print(\"The L.C.M. is\",compute_lcm(num1,num2))"
      ],
      "execution_count": null,
      "outputs": [
        {
          "output_type": "stream",
          "text": [
            "The L.C.M. is 644\n"
          ],
          "name": "stdout"
        }
      ]
    },
    {
      "cell_type": "markdown",
      "metadata": {
        "id": "YARupxN8TJfb"
      },
      "source": [
        " Check whether the given number is  perfect"
      ]
    },
    {
      "cell_type": "code",
      "metadata": {
        "id": "mkwWvcjCTTH7",
        "outputId": "7eddf1b7-af50-427d-cf10-20004fafa1c7",
        "colab": {
          "base_uri": "https://localhost:8080/",
          "height": 102
        }
      },
      "source": [
        " \n",
        "n=int(input(\"Enter any number\"))\n",
        "sum1=0\n",
        "for i in range(1,n):\n",
        "  if(n%i==0):\n",
        "    sum1=sum1+i\n",
        "  if(sum1==n):\n",
        "    print(\"The number is a perfect number\")\n",
        "  else:\n",
        "    print(\"The number is not a perfect number\")"
      ],
      "execution_count": null,
      "outputs": [
        {
          "output_type": "stream",
          "text": [
            "Enter any number5\n",
            "The number is not a perfect number\n",
            "The number is not a perfect number\n",
            "The number is not a perfect number\n",
            "The number is not a perfect number\n"
          ],
          "name": "stdout"
        }
      ]
    },
    {
      "cell_type": "markdown",
      "metadata": {
        "id": "JK1ZIb8tTbfU"
      },
      "source": [
        " Print twin primes upto specified limit"
      ]
    },
    {
      "cell_type": "code",
      "metadata": {
        "id": "aPmVh7txTevS",
        "outputId": "5fb3cfa4-e817-467c-b6a9-557211fc2026",
        "colab": {
          "base_uri": "https://localhost:8080/",
          "height": 205
        }
      },
      "source": [
        " \n",
        "def is_prime(n):\n",
        "  for i in range(2,n):\n",
        "    if n%i==0:\n",
        "      return False\n",
        "    return True\n",
        "def generate_twins(start,end):\n",
        "  for i in range(start,end):\n",
        "    j=i+2\n",
        "    if(is_prime(i) and is_prime(j)):\n",
        "      print(\"{:d} and {:d}\".format(i,j))\n",
        "generate_twins(2,25)"
      ],
      "execution_count": null,
      "outputs": [
        {
          "output_type": "stream",
          "text": [
            "3 and 5\n",
            "5 and 7\n",
            "7 and 9\n",
            "9 and 11\n",
            "11 and 13\n",
            "13 and 15\n",
            "15 and 17\n",
            "17 and 19\n",
            "19 and 21\n",
            "21 and 23\n",
            "23 and 25\n"
          ],
          "name": "stdout"
        }
      ]
    },
    {
      "cell_type": "markdown",
      "metadata": {
        "id": "iGAgjP9GTn5-"
      },
      "source": [
        " Print the prime numbers upto specified limit"
      ]
    },
    {
      "cell_type": "code",
      "metadata": {
        "id": "QuNjEoIPTqNW",
        "outputId": "b6fd3e9c-0e18-4700-bfbd-c553b36f283f",
        "colab": {
          "base_uri": "https://localhost:8080/",
          "height": 205
        }
      },
      "source": [
        " \n",
        "lower=2\n",
        "upper=10\n",
        "print(\"prime numbers between\",lower, \"and\", upper, \"are:\")\n",
        "for num in range(lower,upper+1):\n",
        "  if num>1:\n",
        "    for i in range(2,num):\n",
        "      if(num%i)==0:\n",
        "        break\n",
        "      else:\n",
        "        print(num)"
      ],
      "execution_count": null,
      "outputs": [
        {
          "output_type": "stream",
          "text": [
            "prime numbers between 2 and 10 are:\n",
            "3\n",
            "5\n",
            "5\n",
            "5\n",
            "7\n",
            "7\n",
            "7\n",
            "7\n",
            "7\n",
            "9\n"
          ],
          "name": "stdout"
        }
      ]
    },
    {
      "cell_type": "markdown",
      "metadata": {
        "id": "hXPCbnQxTt3y"
      },
      "source": [
        " Find the sum of digits of the nunbers.Check the whether the given number is Armstrong number Or not"
      ]
    },
    {
      "cell_type": "code",
      "metadata": {
        "id": "oHuSdT1kTwcC",
        "outputId": "127009b2-7a61-4a4c-ccb0-ca244ae16f5c",
        "colab": {
          "base_uri": "https://localhost:8080/",
          "height": 205
        }
      },
      "source": [
        " \n",
        "lower=2\n",
        "upper=10\n",
        "print(\"prime numbers between\",lower, \"and\", upper, \"are:\")\n",
        "for num in range(lower,upper+1):\n",
        "  if num>1:\n",
        "    for i in range(2,num):\n",
        "      if(num%i)==0:\n",
        "        break\n",
        "      else:\n",
        "        print(num)"
      ],
      "execution_count": null,
      "outputs": [
        {
          "output_type": "stream",
          "text": [
            "prime numbers between 2 and 10 are:\n",
            "3\n",
            "5\n",
            "5\n",
            "5\n",
            "7\n",
            "7\n",
            "7\n",
            "7\n",
            "7\n",
            "9\n"
          ],
          "name": "stdout"
        }
      ]
    },
    {
      "cell_type": "markdown",
      "metadata": {
        "id": "YaSg79wuVOmf"
      },
      "source": [
        "Swapping of two numbers"
      ]
    },
    {
      "cell_type": "code",
      "metadata": {
        "id": "2tS-xIy1VS8J",
        "outputId": "848f4d47-916e-45d3-de0f-5a31a9e006da",
        "colab": {
          "base_uri": "https://localhost:8080/",
          "height": 51
        }
      },
      "source": [
        " \n",
        "x=4\n",
        "y=2\n",
        "temp=x\n",
        "x=y\n",
        "y=temp\n",
        "print('The value of x after swapping: {}'.format(x))\n",
        "print('The value of y after swapping: {}'.format(y))"
      ],
      "execution_count": null,
      "outputs": [
        {
          "output_type": "stream",
          "text": [
            "The value of x after swapping: 2\n",
            "The value of y after swapping: 4\n"
          ],
          "name": "stdout"
        }
      ]
    },
    {
      "cell_type": "markdown",
      "metadata": {
        "id": "14jBFdi8VUyA"
      },
      "source": [
        " Preforms all of the Five Arithmetic Operations"
      ]
    },
    {
      "cell_type": "code",
      "metadata": {
        "id": "VTGUlzCdVYFZ",
        "outputId": "5dc791dd-7381-4d90-af41-b076b930f740",
        "colab": {
          "base_uri": "https://localhost:8080/",
          "height": 119
        }
      },
      "source": [
        " \n",
        "num1=input('Enter first number:')\n",
        "num2=input('Enter second number:')\n",
        "sum =float(num1)+float(num)\n",
        "sub =float(num1)-float(num2)\n",
        "mul =float(num1)*float(num2)\n",
        "div =float(num1)/float(num2)\n",
        "print(\"The Addition of {0} and {1} is {2}\".format(num1,num2,sum))\n",
        "print(\"The subtraction of {0} and {1} is {2}\".format(num1,num2,sub))\n",
        "print(\"The multiplication of {0} and {1} is {2}\".format(num1,num2,mul))\n",
        "print(\"The division of {0} and {1} is {2}\".format(num1,num2,div))"
      ],
      "execution_count": null,
      "outputs": [
        {
          "output_type": "stream",
          "text": [
            "Enter first number:1\n",
            "Enter second number:5\n",
            "The Addition of 1 and 5 is 11.0\n",
            "The subtraction of 1 and 5 is -4.0\n",
            "The multiplication of 1 and 5 is 5.0\n",
            "The division of 1 and 5 is 0.2\n"
          ],
          "name": "stdout"
        }
      ]
    }
  ]
}