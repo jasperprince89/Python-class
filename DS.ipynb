{
  "nbformat": 4,
  "nbformat_minor": 0,
  "metadata": {
    "colab": {
      "name": "DS.ipynb",
      "provenance": [],
      "authorship_tag": "ABX9TyORpuwLYpU4tttq309eh+ps",
      "include_colab_link": true
    },
    "kernelspec": {
      "name": "python3",
      "display_name": "Python 3"
    }
  },
  "cells": [
    {
      "cell_type": "markdown",
      "metadata": {
        "id": "view-in-github",
        "colab_type": "text"
      },
      "source": [
        "<a href=\"https://colab.research.google.com/github/jasperprince89/Python-class/blob/master/DS.ipynb\" target=\"_parent\"><img src=\"https://colab.research.google.com/assets/colab-badge.svg\" alt=\"Open In Colab\"/></a>"
      ]
    },
    {
      "cell_type": "markdown",
      "metadata": {
        "id": "aoderMgS1QrC"
      },
      "source": [
        "1.a.Find minimum among three numbers."
      ]
    },
    {
      "cell_type": "code",
      "metadata": {
        "colab": {
          "base_uri": "https://localhost:8080/"
        },
        "id": "N3TxRLXS1S19",
        "outputId": "84f77e7a-b345-48df-907b-ea2dfb6e580e"
      },
      "source": [
        "a=int(input(\"Enter the first number \"))\r\n",
        "b=int(input(\"Enter the second number \"))\r\n",
        "c=int(input(\"Enter the third number \"))\r\n",
        "if a<b:\r\n",
        "    if b<c:\r\n",
        "        print(a,\" is the minimum number\")\r\n",
        "    else:\r\n",
        "        print(c,\" is the minimum number\")\r\n",
        "else:\r\n",
        "    if b<c:\r\n",
        "        print(b,\" is the minimum number\")\r\n",
        "    else:\r\n",
        "        print(c,\" is the minimum number\")"
      ],
      "execution_count": 1,
      "outputs": [
        {
          "output_type": "stream",
          "text": [
            "Enter the first number 2\n",
            "Enter the second number 3\n",
            "Enter the third number 4\n",
            "2  is the minimum number\n"
          ],
          "name": "stdout"
        }
      ]
    },
    {
      "cell_type": "markdown",
      "metadata": {
        "id": "-CbhszYJ1ciA"
      },
      "source": [
        "1.b.Find the GCD and LCM of two/three numbers"
      ]
    },
    {
      "cell_type": "code",
      "metadata": {
        "colab": {
          "base_uri": "https://localhost:8080/"
        },
        "id": "aPX9_z0O1j4a",
        "outputId": "6200b21f-db12-49c7-c07e-ae43a16b4c75"
      },
      "source": [
        "a=int(input(\"Enter the first number \"))\r\n",
        "b=int(input(\"Enter the second number \"))\r\n",
        "i=1\r\n",
        "while (i <= a and i <= b):\r\n",
        "  if(a%i == 0 and b%i == 0):\r\n",
        "    gcd = i\r\n",
        "  i = i + 1\r\n",
        "lcm = (a*b)/gcd\r\n",
        "print(\"GCD of the given numbers is \", gcd)\r\n",
        "print(\"LCM of the given numbers is \",lcm)"
      ],
      "execution_count": 2,
      "outputs": [
        {
          "output_type": "stream",
          "text": [
            "Enter the first number 5\n",
            "Enter the second number 10\n",
            "GCD of the given numbers is  5\n",
            "LCM of the given numbers is  10.0\n"
          ],
          "name": "stdout"
        }
      ]
    },
    {
      "cell_type": "markdown",
      "metadata": {
        "id": "btmuCv4E4eho"
      },
      "source": [
        "1.c.check whether the given number is perfect"
      ]
    },
    {
      "cell_type": "code",
      "metadata": {
        "colab": {
          "base_uri": "https://localhost:8080/"
        },
        "id": "nI8VpFYL4fbi",
        "outputId": "067758d5-ea1b-479c-d57c-836a55eaae9a"
      },
      "source": [
        "n=int(input(\"enter any number:\"))\r\n",
        "sum=0\r\n",
        "for i in range(1,n):\r\n",
        "    if(n%i==0):\r\n",
        "       sum=sum+i\r\n",
        "if(sum==n):\r\n",
        "    print(\"the number\",sum,\" is a perfect number\")\r\n",
        "else:\r\n",
        "    print(\"the number is not a perfect number\")"
      ],
      "execution_count": 3,
      "outputs": [
        {
          "output_type": "stream",
          "text": [
            "enter any number:6\n",
            "the number 6  is a perfect number\n"
          ],
          "name": "stdout"
        }
      ]
    },
    {
      "cell_type": "markdown",
      "metadata": {
        "id": "OD8PnuIT4kVQ"
      },
      "source": [
        "1.c Print twin primes upto a specified limit"
      ]
    },
    {
      "cell_type": "code",
      "metadata": {
        "colab": {
          "base_uri": "https://localhost:8080/"
        },
        "id": "n-Ik-bxz4p5s",
        "outputId": "59c0fd57-b0ef-4d35-8bc0-81e5e6c5b4fe"
      },
      "source": [
        "def prime(n):\r\n",
        "    for i in range(2, n):\r\n",
        "        if n % i == 0:\r\n",
        "            return False\r\n",
        "    return True\r\n",
        " \r\n",
        "def twin_prime(start, end):\r\n",
        "    for i in range(start, end):\r\n",
        "        j= i + 2\r\n",
        "        if (prime(i) and prime(j)):\r\n",
        "            print (\"{:d} and {:d}\".format(i, j))\r\n",
        " \r\n",
        "twin_prime(2, 250)"
      ],
      "execution_count": 4,
      "outputs": [
        {
          "output_type": "stream",
          "text": [
            "3 and 5\n",
            "5 and 7\n",
            "11 and 13\n",
            "17 and 19\n",
            "29 and 31\n",
            "41 and 43\n",
            "59 and 61\n",
            "71 and 73\n",
            "101 and 103\n",
            "107 and 109\n",
            "137 and 139\n",
            "149 and 151\n",
            "179 and 181\n",
            "191 and 193\n",
            "197 and 199\n",
            "227 and 229\n",
            "239 and 241\n"
          ],
          "name": "stdout"
        }
      ]
    },
    {
      "cell_type": "markdown",
      "metadata": {
        "id": "GLOVPu004ujv"
      },
      "source": [
        "1.d print twin primes upto specified limit"
      ]
    },
    {
      "cell_type": "code",
      "metadata": {
        "colab": {
          "base_uri": "https://localhost:8080/"
        },
        "id": "bAtewT914sti",
        "outputId": "13e86935-3a71-4e03-a8cd-6745feb919d4"
      },
      "source": [
        "n1 = int(input(\"Enter the first number \"))\r\n",
        "n2 = int(input(\"Enter the last number \"))\r\n",
        " \r\n",
        "for n in range(n1, n2+1):  \r\n",
        "    if n > 1:\r\n",
        "        for i in range(2,n):\r\n",
        "            if (n % i == 0):\r\n",
        "                break  \r\n",
        "        else:  \r\n",
        "            print(n)"
      ],
      "execution_count": 5,
      "outputs": [
        {
          "output_type": "stream",
          "text": [
            "Enter the first number 2\n",
            "Enter the last number 220\n",
            "2\n",
            "3\n",
            "5\n",
            "7\n",
            "11\n",
            "13\n",
            "17\n",
            "19\n",
            "23\n",
            "29\n",
            "31\n",
            "37\n",
            "41\n",
            "43\n",
            "47\n",
            "53\n",
            "59\n",
            "61\n",
            "67\n",
            "71\n",
            "73\n",
            "79\n",
            "83\n",
            "89\n",
            "97\n",
            "101\n",
            "103\n",
            "107\n",
            "109\n",
            "113\n",
            "127\n",
            "131\n",
            "137\n",
            "139\n",
            "149\n",
            "151\n",
            "157\n",
            "163\n",
            "167\n",
            "173\n",
            "179\n",
            "181\n",
            "191\n",
            "193\n",
            "197\n",
            "199\n",
            "211\n"
          ],
          "name": "stdout"
        }
      ]
    },
    {
      "cell_type": "markdown",
      "metadata": {
        "id": "VfAc0M3R5Efi"
      },
      "source": [
        "1.f find the sum of digits of a number.check whether given number is armstrong number or not"
      ]
    },
    {
      "cell_type": "code",
      "metadata": {
        "colab": {
          "base_uri": "https://localhost:8080/"
        },
        "id": "22aRnUCw41RJ",
        "outputId": "efea4edc-4d2a-4699-a7b8-3670922b2276"
      },
      "source": [
        "import math \r\n",
        "n1 = int(input(\"Enter your first number \"))\r\n",
        "n2 = int(input(\"Enter your second number \"))\r\n",
        "print(\"The armstrong numbers form the interval are \")\r\n",
        "if n1 < n2:\r\n",
        "    for i in range(n1,n2+1):\r\n",
        "        sum = 0\r\n",
        "        temp = i\r\n",
        "        \r\n",
        "        while temp != 0:\r\n",
        "            last = temp%10\r\n",
        "            sum = sum + math.pow(last,3)\r\n",
        "            temp = temp//10\r\n",
        "        if sum==i:\r\n",
        "            print(i)"
      ],
      "execution_count": 6,
      "outputs": [
        {
          "output_type": "stream",
          "text": [
            "Enter your first number 2\n",
            "Enter your second number 60\n",
            "The armstrong numbers form the interval are \n"
          ],
          "name": "stdout"
        }
      ]
    },
    {
      "cell_type": "markdown",
      "metadata": {
        "id": "aZ35NhBg5YsU"
      },
      "source": [
        "1.g swap of two numbers"
      ]
    },
    {
      "cell_type": "code",
      "metadata": {
        "colab": {
          "base_uri": "https://localhost:8080/"
        },
        "id": "KgXFj7L15QGi",
        "outputId": "1b59325c-32ca-4788-f1cc-4850117162e2"
      },
      "source": [
        "a=int(input(\"enter number:\"))\r\n",
        "b=int(input(\"enter number:\"))\r\n",
        "print(\"before swap the values of a and b are:\",a,b)\r\n",
        "a,b=b,a\r\n",
        "print(\"after swap the values of a and b are:\",a,b)"
      ],
      "execution_count": 7,
      "outputs": [
        {
          "output_type": "stream",
          "text": [
            "enter number:5\n",
            "enter number:10\n",
            "before swap the values of a and b are: 5 10\n",
            "after swap the values of a and b are: 10 5\n"
          ],
          "name": "stdout"
        }
      ]
    },
    {
      "cell_type": "markdown",
      "metadata": {
        "id": "1SYuS3ot5h96"
      },
      "source": [
        "1.h Perform all the five arithmetic operations\r\n"
      ]
    },
    {
      "cell_type": "code",
      "metadata": {
        "colab": {
          "base_uri": "https://localhost:8080/"
        },
        "id": "3bQ3sAzf5mrK",
        "outputId": "656dd0ed-92bb-46c9-9ae2-6a0cd609160d"
      },
      "source": [
        "a= 10\r\n",
        "b = 30\r\n",
        "c = 10\r\n",
        " \r\n",
        "c = a + b\r\n",
        "print (\"Addition - Value of c is \", c)\r\n",
        " \r\n",
        "c = a - b\r\n",
        "print (\"Subtraction - Value of c is \", c)\r\n",
        " \r\n",
        "c = a * b\r\n",
        "print (\"Multiplication - Value of c is \", c)\r\n",
        " \r\n",
        "c = a / b\r\n",
        "print (\"Division - Value of c is \", c)\r\n",
        " \r\n",
        "c = a % b\r\n",
        "print (\"Modulus - Value of c is \", c)"
      ],
      "execution_count": 8,
      "outputs": [
        {
          "output_type": "stream",
          "text": [
            "Addition - Value of c is  40\n",
            "Subtraction - Value of c is  -20\n",
            "Multiplication - Value of c is  300\n",
            "Division - Value of c is  0.3333333333333333\n",
            "Modulus - Value of c is  10\n"
          ],
          "name": "stdout"
        }
      ]
    },
    {
      "cell_type": "markdown",
      "metadata": {
        "id": "t_YM9pn85qX8"
      },
      "source": [
        "2.a.copy the contents from one array to another array\r\n"
      ]
    },
    {
      "cell_type": "code",
      "metadata": {
        "colab": {
          "base_uri": "https://localhost:8080/"
        },
        "id": "rOEUdUt25u-K",
        "outputId": "74b1c2c9-b44e-45bf-e554-8ccc0e51069f"
      },
      "source": [
        "import numpy as np\r\n",
        "x = np.array([24, 27, 30, 29, 18, 14])\r\n",
        "print(\"Original array:\")\r\n",
        "print(x)\r\n",
        "y = np.empty_like (x)\r\n",
        "y[:] = x\r\n",
        "print(\"\\nCopy of the said array:\")\r\n",
        "print(y)"
      ],
      "execution_count": 9,
      "outputs": [
        {
          "output_type": "stream",
          "text": [
            "Original array:\n",
            "[24 27 30 29 18 14]\n",
            "\n",
            "Copy of the said array:\n",
            "[24 27 30 29 18 14]\n"
          ],
          "name": "stdout"
        }
      ]
    },
    {
      "cell_type": "markdown",
      "metadata": {
        "id": "681aCRcV5yEm"
      },
      "source": [
        "2.b Copy the contents from one array to another in reverse order"
      ]
    },
    {
      "cell_type": "code",
      "metadata": {
        "colab": {
          "base_uri": "https://localhost:8080/"
        },
        "id": "LEVylCNG51ao",
        "outputId": "ce801884-754a-4df7-da01-883a70d81a45"
      },
      "source": [
        "import array as arr\r\n",
        "source = arr.array('i', [10, 20, 30, 40])\r\n",
        "dest = arr.array('i', [])\r\n",
        " \r\n",
        "for index in range(0, len(source)):\r\n",
        "    dest.insert(index, source[index])\r\n",
        "    \r\n",
        "for i in dest:\r\n",
        "    print(i, end=\" \")\r\n",
        "print(type(dest))\r\n",
        "print(\"The reverse of the array: \")\r\n",
        "for i in range(len(source)-1, -1, -1):\r\n",
        "    dest.insert(index, source[index])\r\n",
        "    print(dest[i], end=\" \")"
      ],
      "execution_count": 10,
      "outputs": [
        {
          "output_type": "stream",
          "text": [
            "10 20 30 40 <class 'array.array'>\n",
            "The reverse of the array: \n",
            "40 30 20 10 "
          ],
          "name": "stdout"
        }
      ]
    },
    {
      "cell_type": "markdown",
      "metadata": {
        "id": "ji1c93rv54hi"
      },
      "source": [
        "2.c.delete the duplicate elements from an array"
      ]
    },
    {
      "cell_type": "code",
      "metadata": {
        "colab": {
          "base_uri": "https://localhost:8080/"
        },
        "id": "95joFBmY56Gw",
        "outputId": "3458f842-863a-422c-8816-e6237a8e4d92"
      },
      "source": [
        "import array as arr\r\n",
        "def delete_duplicate(array1):\r\n",
        "    array2 = arr.array(\"i\", [])\r\n",
        "    for num in array1: \r\n",
        "        if num not in array2: \r\n",
        "            array2.append(num) \r\n",
        "    print(\"\\nArray after deleting the duplicate elements is:\")\r\n",
        "    for i in array2:\r\n",
        "        print(i, end = \", \")\r\n",
        " \r\n",
        "delete_duplicate(arr.array('i', [1,2,4,5,2,3,7,3,8,2,9]))"
      ],
      "execution_count": 11,
      "outputs": [
        {
          "output_type": "stream",
          "text": [
            "\n",
            "Array after deleting the duplicate elements is:\n",
            "1, 2, 4, 5, 3, 7, 8, 9, "
          ],
          "name": "stdout"
        }
      ]
    },
    {
      "cell_type": "markdown",
      "metadata": {
        "id": "Tixix0Z26BMV"
      },
      "source": [
        "3.a Representing sparse matrix"
      ]
    },
    {
      "cell_type": "code",
      "metadata": {
        "colab": {
          "base_uri": "https://localhost:8080/"
        },
        "id": "5H3FXkX46EBc",
        "outputId": "fa0b6709-460c-4830-fc01-7ef744d8796d"
      },
      "source": [
        "import numpy as np \r\n",
        "from scipy.sparse import csr_matrix \r\n",
        "  \r\n",
        "# Creating a 3 * 4 sparse matrix \r\n",
        "sparseMatrix = csr_matrix((3, 4),  \r\n",
        "                          dtype = np.int8).toarray() \r\n",
        "  \r\n",
        "# Print the sparse matrix \r\n",
        "print(sparseMatrix)"
      ],
      "execution_count": 12,
      "outputs": [
        {
          "output_type": "stream",
          "text": [
            "[[0 0 0 0]\n",
            " [0 0 0 0]\n",
            " [0 0 0 0]]\n"
          ],
          "name": "stdout"
        }
      ]
    },
    {
      "cell_type": "markdown",
      "metadata": {
        "id": "A7lp89Q-6H5_"
      },
      "source": [
        "3.b.sparse matrix addition"
      ]
    },
    {
      "cell_type": "code",
      "metadata": {
        "colab": {
          "base_uri": "https://localhost:8080/"
        },
        "id": "JG9hiKEV6J0g",
        "outputId": "7d50fa94-30bb-41e0-ca0e-44aa8170a92c"
      },
      "source": [
        " \r\n",
        "m1=[[1,0,3],\r\n",
        "     [0,5,6],\r\n",
        "     [7,0,0]]\r\n",
        "m2=[[0,5,1],\r\n",
        "    [0,0,8],\r\n",
        "    [0,2,6]]     \r\n",
        "result=[[0,0,0],\r\n",
        "    [0,0,0],\r\n",
        "    [0,0,0]] \r\n",
        "for i in range(len(m1)):\r\n",
        "  for j in range(len(m2)):\r\n",
        "    for k in range(len(m2)):\r\n",
        "      result[i][j] = m1[i][j]+m2[i][j]\r\n",
        "print(\"The resultant matrix \")\r\n",
        "for r in result:\r\n",
        "  print(r)"
      ],
      "execution_count": 13,
      "outputs": [
        {
          "output_type": "stream",
          "text": [
            "The resultant matrix \n",
            "[1, 5, 4]\n",
            "[0, 5, 14]\n",
            "[7, 2, 6]\n"
          ],
          "name": "stdout"
        }
      ]
    },
    {
      "cell_type": "markdown",
      "metadata": {
        "id": "sbWU-_wG6OAK"
      },
      "source": [
        "3.c sprase matrix transpose"
      ]
    },
    {
      "cell_type": "code",
      "metadata": {
        "colab": {
          "base_uri": "https://localhost:8080/"
        },
        "id": "20ykqjMk6Os-",
        "outputId": "cfc38244-17c2-48cb-d920-a197e0476883"
      },
      "source": [
        "N=4\r\n",
        "def transpose(A,B): \r\n",
        "  \r\n",
        "    for i in range(N): \r\n",
        "        for j in range(N): \r\n",
        "            B[i][j] = A[j][i] \r\n",
        " \r\n",
        "A = [ [1, 1, 1, 1], \r\n",
        "    [2, 2, 2, 2], \r\n",
        "    [3, 3, 3, 3], \r\n",
        "    [4, 4, 4, 4]] \r\n",
        "   \r\n",
        "   \r\n",
        "B = A[:][:] \r\n",
        "  \r\n",
        "transpose(A, B) \r\n",
        "   \r\n",
        "print(\"Result matrix is\") \r\n",
        "for i in range(N): \r\n",
        "    for j in range(N): \r\n",
        "        print(B[i][j], \" \", end='') \r\n",
        "    print()"
      ],
      "execution_count": 14,
      "outputs": [
        {
          "output_type": "stream",
          "text": [
            "Result matrix is\n",
            "1  2  3  4  \n",
            "2  2  3  4  \n",
            "3  3  3  4  \n",
            "4  4  4  4  \n"
          ],
          "name": "stdout"
        }
      ]
    },
    {
      "cell_type": "markdown",
      "metadata": {
        "id": "fJQN2cqf6T3T"
      },
      "source": [
        " 4.Write a program to perform Linear Search and Binary Search on a list stored in an array"
      ]
    },
    {
      "cell_type": "code",
      "metadata": {
        "colab": {
          "base_uri": "https://localhost:8080/"
        },
        "id": "BtGwlW-66X6d",
        "outputId": "1e12386d-d4ee-495e-89cd-29bf0f00d22e"
      },
      "source": [
        "def linear(alist,key):\r\n",
        "  for i in range(len(alist)):\r\n",
        "    if alist[i]==key :\r\n",
        "      return i \r\n",
        "  return -1\r\n",
        " \r\n",
        " \r\n",
        "alist = input('Enter the list of numbers :')\r\n",
        "alist = alist.split()\r\n",
        "alist =[int(x) for x in alist]\r\n",
        "key = int(input('The number to search for :'))\r\n",
        " \r\n",
        "index = linear(alist,key)\r\n",
        "if index<0 :\r\n",
        "   print('{} was not found '.format(key))\r\n",
        "else:\r\n",
        "  print('{} was found at index {}.'.format(key,index))"
      ],
      "execution_count": 15,
      "outputs": [
        {
          "output_type": "stream",
          "text": [
            "Enter the list of numbers :5\n",
            "The number to search for :5\n",
            "5 was found at index 0.\n"
          ],
          "name": "stdout"
        }
      ]
    },
    {
      "cell_type": "markdown",
      "metadata": {
        "id": "dg7Qx-vr6cjK"
      },
      "source": [
        "5.a insert a node at beginning at ending and at a given position"
      ]
    },
    {
      "cell_type": "code",
      "metadata": {
        "id": "Y5dkopyJ6dbN"
      },
      "source": [
        "class node:\r\n",
        "    def _init_(self,dval,nval):\r\n",
        "        self.dval=dval\r\n",
        "        self.nval=nval\r\n",
        "class slist:\r\n",
        "    def _init_(self):\r\n",
        "        self.head=None\r\n",
        "        self.tail=None\r\n",
        "        self.size=0\r\n",
        "    def len(self):\r\n",
        "        return self.size\r\n",
        "    def isempty(self):\r\n",
        "        return self.size==0\r\n",
        "    def addlast(self,e):\r\n",
        "        new=node(e,None)\r\n",
        "        if self.isempty():\r\n",
        "            self.head=new\r\n",
        "        else:\r\n",
        "            self.tail.nval=new\r\n",
        "        self.tail=new\r\n",
        "        self.size+=1\r\n",
        "    def display(self):\r\n",
        "        p=self.head\r\n",
        "        while p:\r\n",
        "            print(p.dval,end='--')\r\n",
        "            p=p.nval\r\n",
        "        print(' ')\r\n",
        "    def removefirst(self):\r\n",
        "        if self.isempty():\r\n",
        "            print('empty list')\r\n",
        "            return\r\n",
        "        print('element deleted form the list is',self.head.dval)\r\n",
        "        self.head=self.head.nval\r\n",
        "        self.size-=1\r\n",
        "        if self.isempty():\r\n",
        "            self.tail=None\r\n",
        "            return\r\n",
        "    def removelast(self):\r\n",
        "        if self.isempty():\r\n",
        "            print('empty list')\r\n",
        "            return\r\n",
        "        temp=self.head\r\n",
        "        i=1\r\n",
        "        while i<self.len()-1:\r\n",
        "            temp=temp.nval\r\n",
        "            i+=1\r\n",
        "        self.tail=temp\r\n",
        "        temp=temp.nval\r\n",
        "        x=temp.nval\r\n",
        "        self.tail.nval=None\r\n",
        "        self.size-=1\r\n",
        "        return x\r\n",
        "    def count(self):\r\n",
        "        i=0\r\n",
        "        p=self.head\r\n",
        "        while p:\r\n",
        "            p=p.nval\r\n",
        "            i+=1\r\n",
        "            return i\r\n",
        "    def search(self,el):\r\n",
        "        p=self.head\r\n",
        "        i=0\r\n",
        "        while (i<(self.len())):\r\n",
        "            print(p.dval)\r\n",
        "            if p.dval==el:\r\n",
        "                print('element is found')\r\n",
        "                return\r\n",
        "            p=p.nval\r\n",
        "            i+=1\r\n",
        "        print('element is not found')"
      ],
      "execution_count": 19,
      "outputs": []
    },
    {
      "cell_type": "markdown",
      "metadata": {
        "id": "bAAFvUQu6nwp"
      },
      "source": [
        "6.doble linked list"
      ]
    },
    {
      "cell_type": "code",
      "metadata": {
        "id": "koGbsdIz6peS"
      },
      "source": [
        "class Node:\r\n",
        "    def init(self,preval,dataval,nextval):\r\n",
        "        self.dataval=dataval\r\n",
        "        self.nextval=nextval\r\n",
        "        self.preval=preval\r\n",
        "class dlist:\r\n",
        "    def init(self):\r\n",
        "        self.head=None\r\n",
        "        self.tail=None\r\n",
        "        self.size=0\r\n",
        "    def len(self):\r\n",
        "        return self.size\r\n",
        "    def isempty(self):\r\n",
        "        return self.size==0\r\n",
        "    def addlast(self,ele):\r\n",
        "        new=Node(None,ele,None)\r\n",
        "        if self.isempty():\r\n",
        "            self.head=new\r\n",
        "            self.tail=new\r\n",
        "        else:\r\n",
        "            self.tail.nextval=new\r\n",
        "            new.preval=self.tail\r\n",
        "            self.tail=new\r\n",
        "        self.size+=1\r\n",
        "    def display(self):\r\n",
        "        temp=self.head\r\n",
        "        while (temp):\r\n",
        "            print(temp.dataval,end='--')\r\n",
        "            temp=temp.nextval\r\n",
        "    def removelast(self):\r\n",
        "        if self.isempty():\r\n",
        "            print('empty list')\r\n",
        "            return\r\n",
        "        print('deleted element is :',self.tail.dataval)\r\n",
        "        self.tail.preval.nextval=None\r\n",
        "        self.tail=self.tail.preval\r\n",
        "        self.size-=1\r\n",
        "    def removefirst(self):\r\n",
        "        if self.isempty():\r\n",
        "            print('empty list')\r\n",
        "            return\r\n",
        "        else:\r\n",
        "            print('deleted element is :',self.head.dataval)\r\n",
        "            self.head.nextval=self.head\r\n",
        "            self.head.preval=None\r\n",
        "            self.size-=1\r\n",
        "            return\r\n",
        "    def search(self,ele):\r\n",
        "        temp=self.head\r\n",
        "        i=0\r\n",
        "        while(temp):\r\n",
        "            print('yes')\r\n",
        "            if temp.dataval==ele:\r\n",
        "                print('element found')\r\n",
        "                return\r\n",
        "            i+=1\r\n",
        "            temp=temp.nextval"
      ],
      "execution_count": 18,
      "outputs": []
    },
    {
      "cell_type": "markdown",
      "metadata": {
        "id": "m0ojgZdZ6x__"
      },
      "source": [
        "7.circular linked list"
      ]
    },
    {
      "cell_type": "code",
      "metadata": {
        "id": "-cCXPSzT611l"
      },
      "source": [
        "class Node:\r\n",
        "    def init(self,preval,dataval,nextval):\r\n",
        "        self.dataval=dataval\r\n",
        "        self.nextval=nextval\r\n",
        "        self.preval=preval\r\n",
        "class dlist:\r\n",
        "    def init(self):\r\n",
        "        self.head=None\r\n",
        "        self.tail=None\r\n",
        "        self.size=0\r\n",
        "    def len(self):\r\n",
        "        return self.size\r\n",
        "    def isempty(self):\r\n",
        "        return self.size==0\r\n",
        "    def addlast(self,ele):\r\n",
        "        new=Node(None,ele,None)\r\n",
        "        if self.isempty():\r\n",
        "            self.head=new\r\n",
        "            self.tail=new\r\n",
        "        else:\r\n",
        "            self.tail.nextval=new\r\n",
        "            new.preval=self.tail\r\n",
        "            self.tail=new\r\n",
        "        self.size+=1\r\n",
        "    def display(self):\r\n",
        "        temp=self.head\r\n",
        "        while (temp):\r\n",
        "            print(temp.dataval,end='--')\r\n",
        "            temp=temp.nextval\r\n",
        "    def removelast(self):\r\n",
        "        if self.isempty():\r\n",
        "            print('empty list')\r\n",
        "            return\r\n",
        "        print('deleted element is :',self.tail.dataval)\r\n",
        "        self.tail.preval.nextval=None\r\n",
        "        self.tail=self.tail.preval\r\n",
        "        self.size-=1\r\n",
        "    def removefirst(self):\r\n",
        "        if self.isempty():\r\n",
        "            print('empty list')\r\n",
        "            return\r\n",
        "        else:\r\n",
        "            print('deleted element is :',self.head.dataval)\r\n",
        "            self.head.nextval=self.head\r\n",
        "            self.head.preval=None\r\n",
        "            self.size-=1\r\n",
        "            return\r\n",
        "    def search(self,ele):\r\n",
        "        temp=self.head\r\n",
        "        i=0\r\n",
        "        while(temp):\r\n",
        "            print('yes')\r\n",
        "            if temp.dataval==ele:\r\n",
        "                print('element found')\r\n",
        "                return\r\n",
        "            i+=1\r\n",
        "            temp=temp.nextval"
      ],
      "execution_count": 20,
      "outputs": []
    },
    {
      "cell_type": "markdown",
      "metadata": {
        "id": "876CG4C365i3"
      },
      "source": [
        "8.write a program to create a stack and perform various operation on it\r\n"
      ]
    },
    {
      "cell_type": "code",
      "metadata": {
        "colab": {
          "base_uri": "https://localhost:8080/"
        },
        "id": "azEFC4Fc69rg",
        "outputId": "9cee6790-5db7-4757-f569-7a2db7f22636"
      },
      "source": [
        "class Stack:\r\n",
        "    def _init_(self):\r\n",
        "        self.items = []\r\n",
        " \r\n",
        "    def is_empty(self):\r\n",
        "        return self.items == []\r\n",
        " \r\n",
        "    def push(self, data):\r\n",
        "        self.items.append(data)\r\n",
        " \r\n",
        "    def pop(self):\r\n",
        "        return self.items.pop()\r\n",
        " \r\n",
        " \r\n",
        "s = Stack()\r\n",
        "while True:\r\n",
        "    print('push <value>')\r\n",
        "    print('pop')\r\n",
        "    print('quit')\r\n",
        "    do = input('perform operation').split()\r\n",
        " \r\n",
        "    operation = do[0].strip().lower()\r\n",
        "    if operation == 'push':\r\n",
        "        s.push(int(do[1]))\r\n",
        "    elif operation == 'pop':\r\n",
        "        if s.is_empty():\r\n",
        "            print('Stack is empty.')\r\n",
        "        else:\r\n",
        "            print('Popped value: ', s.pop())\r\n",
        "    elif operation == 'quit':\r\n",
        "        break"
      ],
      "execution_count": null,
      "outputs": [
        {
          "output_type": "stream",
          "text": [
            "push <value>\n",
            "pop\n",
            "quit\n"
          ],
          "name": "stdout"
        }
      ]
    },
    {
      "cell_type": "markdown",
      "metadata": {
        "id": "H9e8TIdv7Jt0"
      },
      "source": [
        "9.convert the influx expression into postfix form"
      ]
    },
    {
      "cell_type": "code",
      "metadata": {
        "id": "7SiVJPnA7L9_"
      },
      "source": [
        "class infix_to_postfix:\r\n",
        "    precedence={'^':5,'*':4,'/':4,'+':3,'-':3,'(':2,')':1}\r\n",
        "    def _init_(self):\r\n",
        "        self.items=[]\r\n",
        "        self.size=-1\r\n",
        "    def push(self,value):\r\n",
        "        self.items.append(value)\r\n",
        "        self.size+=1\r\n",
        "    def pop(self):\r\n",
        "        if self.isempty():\r\n",
        "            return 0\r\n",
        "        else:\r\n",
        "            self.size-=1\r\n",
        "            return self.items.pop()\r\n",
        "    def isempty(self):\r\n",
        "        if(self.size==-1):\r\n",
        "            return True\r\n",
        "        else:\r\n",
        "            return False\r\n",
        "    def seek(self):\r\n",
        "        if self.isempty():\r\n",
        "            return false\r\n",
        "        else:\r\n",
        "            return self.items[self.size]\r\n",
        "    def isOperand(self,i):\r\n",
        "        if i in 'ABCDEFGHIJKLMNOPQRSTUVWXYZ':\r\n",
        "            return True\r\n",
        "        else:\r\n",
        "            return False\r\n",
        "    def infixtopostfix (self,expr):\r\n",
        "        postfix=\"\"\r\n",
        "        print('postfix expression after every iteration is:')\r\n",
        "        for i in expr:\r\n",
        "            if(len(expr)%2==0):\r\n",
        "                print(\"Incorrect infix expr\")\r\n",
        "                return False\r\n",
        "            elif(self.isOperand(i)):\r\n",
        "                postfix +=i\r\n",
        "            elif(i in '+-*/^'):\r\n",
        "                while(len(self.items)and self.precedence[i]<=self.precedence[self.seek()]):\r\n",
        "                    postfix+=self.pop()\r\n",
        "                self.push(i)\r\n",
        "            elif i is '(':\r\n",
        "                self.push(i)\r\n",
        "            elif i is ')':\r\n",
        "                o=self.pop()\r\n",
        "                while o!='(':\r\n",
        "                    postfix +=o\r\n",
        "                    o=self.pop()\r\n",
        "            print(postfix)\r\n",
        "                #end of for\r\n",
        "        while len(self.items):\r\n",
        "            if(self.seek()=='('):\r\n",
        "                self.pop()\r\n",
        "            else:\r\n",
        "                postfix+=self.pop()\r\n",
        "        return postfix\r\n",
        "s=infix_to_postfix()\r\n",
        "expr=input('enter the expression ')\r\n",
        "result=s.infixtopostfix(expr)\r\n",
        "if (result!=False):\r\n",
        "    print(\"the postfix expr of :\",expr,\"is\",result)"
      ],
      "execution_count": null,
      "outputs": []
    },
    {
      "cell_type": "markdown",
      "metadata": {
        "id": "eGxdFAMf7R8V"
      },
      "source": [
        "10.create a queue and perform various operations on it"
      ]
    },
    {
      "cell_type": "code",
      "metadata": {
        "id": "V60o42XZ7TuR"
      },
      "source": [
        "class Node:\r\n",
        "    def _init_(self, element, next):\r\n",
        "        self.element = element\r\n",
        "        self.next = next\r\n",
        " \r\n",
        "class QueuesLinked:\r\n",
        "    def _init_(self):\r\n",
        "        self.front = None\r\n",
        "        self.rear = None\r\n",
        "        self.size = 0\r\n",
        " \r\n",
        "    def _len_(self):\r\n",
        "        return self.size\r\n",
        " \r\n",
        "    def isempty(self):\r\n",
        "        return self.size == 0\r\n",
        " \r\n",
        "    def enqueue(self, e):\r\n",
        "        newest = Node(e, None)\r\n",
        "        if self.isempty():\r\n",
        "            self.front = newest\r\n",
        "        else:\r\n",
        "            self.rear.next = newest\r\n",
        "        self.rear = newest\r\n",
        "        self.size += 1\r\n",
        " \r\n",
        "    def dequeue(self):\r\n",
        "        if self.isempty():\r\n",
        "            print('Queue is empty')\r\n",
        "            return\r\n",
        "        e = self.front.element\r\n",
        "        self.front = self.front.next\r\n",
        "        self.size -= 1\r\n",
        "        if self.isempty():\r\n",
        "            self.rear = None\r\n",
        "        return e\r\n",
        " \r\n",
        "    def first(self):\r\n",
        "        if self.isempty():\r\n",
        "            print('Queue is empty')\r\n",
        "            return\r\n",
        "        return self.front.element\r\n",
        " \r\n",
        "    def display(self):\r\n",
        "        p = self.front\r\n",
        "        while p:\r\n",
        "            print(p.element,end=' <-- ')\r\n",
        "            p = p.next\r\n",
        "        print()\r\n",
        " \r\n",
        " \r\n",
        "Q = QueuesLinked()\r\n",
        "Q.enqueue(5)\r\n",
        "Q.enqueue(3)\r\n",
        "print('Queue:')\r\n",
        "Q.display()\r\n",
        "print('Queue Length:', len(Q))\r\n",
        "ele = Q.dequeue()\r\n",
        "print('Queue:')\r\n",
        "Q.display()\r\n",
        "print('Queue Length:', len(Q))\r\n",
        "print('Removed Element:',ele)\r\n",
        "print('Is Queue Empty:',Q.isempty())\r\n",
        "Q.enqueue(7)\r\n",
        "print('Queue:')\r\n",
        "Q.display()\r\n",
        "print('Queue Length:', len(Q))\r\n",
        "Q.enqueue(12)\r\n",
        "print('Queue:')\r\n",
        "Q.display()\r\n",
        "print('Queue Length:', len(Q))\r\n",
        "ele = Q.dequeue()\r\n",
        "print('Queue:')\r\n",
        "Q.display()\r\n",
        "print('Queue Length:', len(Q))\r\n",
        "print('Removed Element:',ele)\r\n",
        "print('First Element:',Q.first())"
      ],
      "execution_count": null,
      "outputs": []
    },
    {
      "cell_type": "code",
      "metadata": {
        "id": "Epvaep-27XqM"
      },
      "source": [
        ""
      ],
      "execution_count": null,
      "outputs": []
    }
  ]
}