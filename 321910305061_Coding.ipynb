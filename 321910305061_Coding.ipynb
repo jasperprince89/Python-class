{
  "nbformat": 4,
  "nbformat_minor": 0,
  "metadata": {
    "colab": {
      "name": "321910305061-Coding.ipynb",
      "provenance": [],
      "authorship_tag": "ABX9TyPiFC9MNmUGQz7g1QQYBHKK",
      "include_colab_link": true
    },
    "kernelspec": {
      "name": "python3",
      "display_name": "Python 3"
    }
  },
  "cells": [
    {
      "cell_type": "markdown",
      "metadata": {
        "id": "view-in-github",
        "colab_type": "text"
      },
      "source": [
        "<a href=\"https://colab.research.google.com/github/jasperprince89/Python-class/blob/master/321910305061_Coding.ipynb\" target=\"_parent\"><img src=\"https://colab.research.google.com/assets/colab-badge.svg\" alt=\"Open In Colab\"/></a>"
      ]
    },
    {
      "cell_type": "markdown",
      "metadata": {
        "id": "14H7V0tYL_SN"
      },
      "source": [
        "1) Print \"Hello World\""
      ]
    },
    {
      "cell_type": "code",
      "metadata": {
        "id": "rlGGWU2bMOKs",
        "outputId": "f0f944e0-a46e-41e1-f3b2-79e63f4274d6",
        "colab": {
          "base_uri": "https://localhost:8080/",
          "height": 33
        }
      },
      "source": [
        "print(\"Hello World!\")"
      ],
      "execution_count": 1,
      "outputs": [
        {
          "output_type": "stream",
          "text": [
            "Hello World!\n"
          ],
          "name": "stdout"
        }
      ]
    },
    {
      "cell_type": "markdown",
      "metadata": {
        "id": "QxP8BAUJMVls"
      },
      "source": [
        ") Compute Arithmetic Operations(+, -, *, /, %)\n",
        "\n",
        "List item\n",
        "List item\n",
        "List item\n",
        "List item"
      ]
    },
    {
      "cell_type": "code",
      "metadata": {
        "id": "-chCK8a4MWtc",
        "outputId": "e4c21495-8c9e-4f51-838e-bbd74e4d78c6",
        "colab": {
          "base_uri": "https://localhost:8080/",
          "height": 134
        }
      },
      "source": [
        "num1=int(input('Enter the first number'))\n",
        "num2=int(input('Enter the second number'))\n",
        "add=num1+num2\n",
        "dif=num1-num2\n",
        "mul=num1*num2\n",
        "div=num1/num2\n",
        "modulus=num1%num2\n",
        "print('Addition of',num1,'and',num2,'is:',add)\n",
        "print('Difference of',num1,'and',num2,'is:',dif)\n",
        "print('Multiplication of',num1,'and',num2,'is:',mul)\n",
        "print('Division of',num1,'and',num2,'is:',div)\n",
        "print('Modulus of',num1,'and',num2,'is:',modulus)"
      ],
      "execution_count": 2,
      "outputs": [
        {
          "output_type": "stream",
          "text": [
            "Enter the first number10\n",
            "Enter the second number20\n",
            "Addition of 10 and 20 is: 30\n",
            "Difference of 10 and 20 is: -10\n",
            "Multiplication of 10 and 20 is: 200\n",
            "Division of 10 and 20 is: 0.5\n",
            "Modulus of 10 and 20 is: 10\n"
          ],
          "name": "stdout"
        }
      ]
    },
    {
      "cell_type": "markdown",
      "metadata": {
        "id": "zUq9P9vDMf6g"
      },
      "source": [
        "**3) Demonstrate the Relational operators(>=,<=,==,|=)**\n",
        "\n",
        "---\n",
        "\n"
      ]
    },
    {
      "cell_type": "code",
      "metadata": {
        "id": "JNTxXfK2MiU9",
        "outputId": "860069e9-e2c7-4572-ea28-8bb5a05fc9ad",
        "colab": {
          "base_uri": "https://localhost:8080/",
          "height": 84
        }
      },
      "source": [
        "a=30\n",
        "b=50\n",
        "print(a>=b)\n",
        "print(a<=b)\n",
        "print(a==b)\n",
        "print(a!=b)"
      ],
      "execution_count": 8,
      "outputs": [
        {
          "output_type": "stream",
          "text": [
            "False\n",
            "True\n",
            "False\n",
            "True\n"
          ],
          "name": "stdout"
        }
      ]
    },
    {
      "cell_type": "markdown",
      "metadata": {
        "id": "VisZmVVnMnZd"
      },
      "source": [
        "**4) Demonstrate the Logical operators(&&,||,|)\n"
      ]
    },
    {
      "cell_type": "code",
      "metadata": {
        "id": "ByGlGVaCNilv",
        "outputId": "a5b08f97-334a-4719-fd7b-b5d6812b5503",
        "colab": {
          "base_uri": "https://localhost:8080/",
          "height": 67
        }
      },
      "source": [
        "x=True\n",
        "y=False\n",
        "print('x and y is',x and y)\n",
        "print('x and y is',x or y)\n",
        "print('x and y is',not x)"
      ],
      "execution_count": 9,
      "outputs": [
        {
          "output_type": "stream",
          "text": [
            "x and y is False\n",
            "x and y is True\n",
            "x and y is False\n"
          ],
          "name": "stdout"
        }
      ]
    },
    {
      "cell_type": "markdown",
      "metadata": {
        "id": "MF3WPvXLNm0T"
      },
      "source": [
        "5) Demonstrate the shorthand Assigment Operator(=,+=,-=,*=,/=,%=) \n"
      ]
    },
    {
      "cell_type": "code",
      "metadata": {
        "id": "o1cwcwAvNqIf",
        "outputId": "11bf10b9-1150-49f4-c229-c50ad2309c01",
        "colab": {
          "base_uri": "https://localhost:8080/",
          "height": 117
        }
      },
      "source": [
        "x=12\n",
        "y=18\n",
        "x=y\n",
        "print(x)\n",
        "x+=y\n",
        "print(x)\n",
        "x-=y\n",
        "print(x)\n",
        "x*=y\n",
        "print(x)\n",
        "x/=y\n",
        "print(x)\n",
        "x%=y\n",
        "print(x)"
      ],
      "execution_count": 10,
      "outputs": [
        {
          "output_type": "stream",
          "text": [
            "18\n",
            "36\n",
            "18\n",
            "324\n",
            "18.0\n",
            "0.0\n"
          ],
          "name": "stdout"
        }
      ]
    },
    {
      "cell_type": "markdown",
      "metadata": {
        "id": "OHp0FOzdNy-z"
      },
      "source": [
        "6) Demonstrate the Increment and Decrement Operators(++,--) \n"
      ]
    },
    {
      "cell_type": "code",
      "metadata": {
        "id": "Nhnv2fIYN1oo",
        "outputId": "0131496d-318a-477b-d969-59b2409c8553",
        "colab": {
          "base_uri": "https://localhost:8080/",
          "height": 318
        }
      },
      "source": [
        "print(\"Increment For Loop\")\n",
        "for i in range(0,10):\n",
        "  print(i)\n",
        "print(\"\\n Decrement For Loop\")\n",
        "for i in range(4,-1,-1):\n",
        "  print(i)"
      ],
      "execution_count": 11,
      "outputs": [
        {
          "output_type": "stream",
          "text": [
            "Increment For Loop\n",
            "0\n",
            "1\n",
            "2\n",
            "3\n",
            "4\n",
            "5\n",
            "6\n",
            "7\n",
            "8\n",
            "9\n",
            "\n",
            " Decrement For Loop\n",
            "4\n",
            "3\n",
            "2\n",
            "1\n",
            "0\n"
          ],
          "name": "stdout"
        }
      ]
    },
    {
      "cell_type": "markdown",
      "metadata": {
        "id": "Qam1P8hzOBMY"
      },
      "source": [
        "**7) Find greatest of two numbers using Conditional Operator(?:)**"
      ]
    },
    {
      "cell_type": "code",
      "metadata": {
        "id": "-P1gJHMgOB-f",
        "outputId": "4862dc4d-afb2-40b7-f69e-3058c6a45af7",
        "colab": {
          "base_uri": "https://localhost:8080/",
          "height": 33
        }
      },
      "source": [
        "n1=10\n",
        "n2=20\n",
        "mx=n1 if n1>n2 else n2\n",
        "print(\"Largest number between\"+ str(n1) + \"and\" + str(n2) + \"is\" + str(mx))"
      ],
      "execution_count": 12,
      "outputs": [
        {
          "output_type": "stream",
          "text": [
            "Largest number between10and20is20\n"
          ],
          "name": "stdout"
        }
      ]
    },
    {
      "cell_type": "markdown",
      "metadata": {
        "id": "jQWT5p8pOHS_"
      },
      "source": [
        "**9) Demonstrate the Bitwise Operators(&,|,^,<<,>>,~)**\n"
      ]
    },
    {
      "cell_type": "code",
      "metadata": {
        "id": "sB1TcveqOKUy",
        "outputId": "cbf39523-6678-46a1-bf79-21f71dabee8f",
        "colab": {
          "base_uri": "https://localhost:8080/",
          "height": 117
        }
      },
      "source": [
        "a=20\n",
        "b=50\n",
        "c=10\n",
        "c=a&b;\n",
        "print(\"Line1 - Value of c is\",c)\n",
        "c=a|b;\n",
        "print(\"Line2 - Value of c is\",c)\n",
        "c=a^b;\n",
        "print(\"Line3 - Value of c is\",c)\n",
        "c=a<<b;\n",
        "print(\"Line4 - Value of c is\",c)\n",
        "c=a>>b;\n",
        "print(\"Line5 - Value of c is\",c)\n",
        "c=~a;\n",
        "print(\"Line6 - Value of c is\",c)"
      ],
      "execution_count": 13,
      "outputs": [
        {
          "output_type": "stream",
          "text": [
            "Line1 - Value of c is 16\n",
            "Line2 - Value of c is 54\n",
            "Line3 - Value of c is 38\n",
            "Line4 - Value of c is 22517998136852480\n",
            "Line5 - Value of c is 0\n",
            "Line6 - Value of c is -21\n"
          ],
          "name": "stdout"
        }
      ]
    },
    {
      "cell_type": "markdown",
      "metadata": {
        "id": "5YJcGLsjOQpX"
      },
      "source": [
        "**10) Compute addition of two numbers.(Subtraction,Multiplication,Division,to find the Remainder)**"
      ]
    },
    {
      "cell_type": "code",
      "metadata": {
        "id": "ElyLRiI7ORjj",
        "outputId": "8c3adaa1-b12a-4aad-c1a4-7b1b09119ed7",
        "colab": {
          "base_uri": "https://localhost:8080/",
          "height": 100
        }
      },
      "source": [
        "num1=int(input(\"Enter the first number:\"))\n",
        "num2=int(input(\"Enter the second number:\"))\n",
        "print(\"Enter any of these operator you want to perform\");\n",
        "ch=input(\"Enter any of these operator for operation +, -, *, /\")\n",
        "result=0\n",
        "if ch=='+':\n",
        "  result=num1+num2;\n",
        "elif ch=='-':\n",
        "  result=num1-num2;\n",
        "elif ch=='*':\n",
        "  result=num1*num2;\n",
        "elif ch=='/':\n",
        "  result=num1/num2;\n",
        "else:\n",
        "  print(\"char is  not supported\");\n",
        "print(num1,ch,num2,\":\",result)"
      ],
      "execution_count": 14,
      "outputs": [
        {
          "output_type": "stream",
          "text": [
            "Enter the first number:10\n",
            "Enter the second number:20\n",
            "Enter any of these operator you want to perform\n",
            "Enter any of these operator for operation +, -, *, /*\n",
            "10 * 20 : 200\n"
          ],
          "name": "stdout"
        }
      ]
    },
    {
      "cell_type": "markdown",
      "metadata": {
        "id": "Ux9kUXYLOdGL"
      },
      "source": [
        "**8) Find the greatest of three numbers using conditional operator**"
      ]
    },
    {
      "cell_type": "code",
      "metadata": {
        "id": "BCT6vgEZOgMX",
        "outputId": "cb0746c1-be26-491a-cb09-73fb1885977d",
        "colab": {
          "base_uri": "https://localhost:8080/",
          "height": 33
        }
      },
      "source": [
        "n1=20\n",
        "n2=30\n",
        "n3=50\n",
        "mx=(n1 if (n1>n2 and n1 > n3)\n",
        "       else (n2 if (n2>n3) else n3))\n",
        "      \n",
        "print(\"Largest number between\" + str(n1) + \",\" + str(n2) + \"and\" + str(n3) + \"is\" + str(mx))"
      ],
      "execution_count": 15,
      "outputs": [
        {
          "output_type": "stream",
          "text": [
            "Largest number between20,30and50is50\n"
          ],
          "name": "stdout"
        }
      ]
    }
  ]
}