{
  "nbformat": 4,
  "nbformat_minor": 0,
  "metadata": {
    "colab": {
      "name": "pythonclass_onjune18.ipynb",
      "provenance": [],
      "authorship_tag": "ABX9TyObGxCuBSecGhVVc9Jzv/g0",
      "include_colab_link": true
    },
    "kernelspec": {
      "name": "python3",
      "display_name": "Python 3"
    }
  },
  "cells": [
    {
      "cell_type": "markdown",
      "metadata": {
        "id": "view-in-github",
        "colab_type": "text"
      },
      "source": [
        "<a href=\"https://colab.research.google.com/github/jasperprince89/Python-class/blob/master/pythonclass_onjune18.ipynb\" target=\"_parent\"><img src=\"https://colab.research.google.com/assets/colab-badge.svg\" alt=\"Open In Colab\"/></a>"
      ]
    },
    {
      "cell_type": "markdown",
      "metadata": {
        "id": "NaxLqjLjdFDk",
        "colab_type": "text"
      },
      "source": [
        ""
      ]
    },
    {
      "cell_type": "code",
      "metadata": {
        "id": "0PH_gsBRkaHq",
        "colab_type": "code",
        "colab": {
          "base_uri": "https://localhost:8080/",
          "height": 84
        },
        "outputId": "cb29c56d-8dce-458d-a647-2b90689d30f7"
      },
      "source": [
        "# Python program to calculate simple interest\n",
        "\n",
        "p = float(input(\"Enter the principal amount: \"))\n",
        "t = float(input(\"Enter the time in years: \"))\n",
        "r = float(input(\"Enter the interest rate: \"))\n",
        "\n",
        "simple_interest = p * t * r / 100\n",
        "\n",
        "print(\"Simple Interest = %.2f\" %simple_interest)"
      ],
      "execution_count": 2,
      "outputs": [
        {
          "output_type": "stream",
          "text": [
            "Enter the principal amount: 8\n",
            "Enter the time in years: 6\n",
            "Enter the interest rate: 8\n",
            "Simple Interest = 3.84\n"
          ],
          "name": "stdout"
        }
      ]
    },
    {
      "cell_type": "code",
      "metadata": {
        "id": "5BXm2Eigkdku",
        "colab_type": "code",
        "colab": {
          "base_uri": "https://localhost:8080/",
          "height": 67
        },
        "outputId": "9035c94d-c156-4aaf-faa8-c740931880bb"
      },
      "source": [
        "# Python program to calculate area of cirle and circumference of a circle\n",
        "\n",
        "PI = 3.14\n",
        "radius = float(input(' Please Enter the radius of a circle: '))\n",
        "area = PI * radius * radius\n",
        "circumference = 2 * PI * radius\n",
        "\n",
        "print(\" Area Of a Circle = %.2f\" %area)\n",
        "print(\" Circumference Of a Circle = %.2f\" %circumference)"
      ],
      "execution_count": 3,
      "outputs": [
        {
          "output_type": "stream",
          "text": [
            " Please Enter the radius of a circle: 4\n",
            " Area Of a Circle = 50.24\n",
            " Circumference Of a Circle = 25.12\n"
          ],
          "name": "stdout"
        }
      ]
    },
    {
      "cell_type": "code",
      "metadata": {
        "id": "YUKdx5yQk6Qu",
        "colab_type": "code",
        "colab": {
          "base_uri": "https://localhost:8080/",
          "height": 84
        },
        "outputId": "847cd9bd-53de-4f90-91f6-84e55321fc51"
      },
      "source": [
        "# Python program to calculate area of a triangle\n",
        "\n",
        "a = float(input('Enter first side: '))\n",
        "b = float(input('Enter second side: '))\n",
        "c = float(input('Enter third side: '))\n",
        "s = (a + b + c) / 2\n",
        "area = (s*(s-a)*(s-b)*(s-c)) ** 0.5\n",
        "print('The area of the triangle is %0.2f' %area)"
      ],
      "execution_count": 4,
      "outputs": [
        {
          "output_type": "stream",
          "text": [
            "Enter first side: 5\n",
            "Enter second side: 6\n",
            "Enter third side: 7\n",
            "The area of the triangle is 14.70\n"
          ],
          "name": "stdout"
        }
      ]
    },
    {
      "cell_type": "code",
      "metadata": {
        "id": "b70Y5K0ilE8Z",
        "colab_type": "code",
        "colab": {
          "base_uri": "https://localhost:8080/",
          "height": 34
        },
        "outputId": "b85915e9-00e4-4a3f-dc02-a110808c1422"
      },
      "source": [
        "# Python program to convert the temperature from celsisus to fahrenheit \n",
        "\n",
        "celsius = 34\n",
        "fahrenheit = (celsius * 1.8) + 32\n",
        "print('%0.1f degree Celsius is equal to %0.1f degree Fahrenheit' %(celsius,fahrenheit))"
      ],
      "execution_count": 5,
      "outputs": [
        {
          "output_type": "stream",
          "text": [
            "34.0 degree Celsius is equal to 93.2 degree Fahrenheit\n"
          ],
          "name": "stdout"
        }
      ]
    },
    {
      "cell_type": "code",
      "metadata": {
        "id": "pxJYH9jnlQI7",
        "colab_type": "code",
        "colab": {
          "base_uri": "https://localhost:8080/",
          "height": 101
        },
        "outputId": "aff178b6-29d0-4ab6-f8d9-c7c4a04b1df6"
      },
      "source": [
        "# Python program to calculate area and perimeter of a rectangle\n",
        "\n",
        "length = float(input('Please Enter the length of a Rectangle: '))\n",
        "breadth = float(input('Please Enter the breadth of a Rectangle: '))\n",
        "# calculate the area\n",
        "Area = length * breadth\n",
        "# calculate the Perimeter\n",
        "Perimeter = 2 * (length + breadth)\n",
        "print(\"\\n Area of a Rectangle is: %.2f\" %Area)\n",
        "print(\" Perimeter of Rectangle is: %.2f\" %Perimeter)"
      ],
      "execution_count": 6,
      "outputs": [
        {
          "output_type": "stream",
          "text": [
            "Please Enter the length of a Rectangle: 4\n",
            "Please Enter the breadth of a Rectangle: 2\n",
            "\n",
            " Area of a Rectangle is: 8.00\n",
            " Perimeter of Rectangle is: 12.00\n"
          ],
          "name": "stdout"
        }
      ]
    },
    {
      "cell_type": "code",
      "metadata": {
        "id": "0AjP38V2lU2S",
        "colab_type": "code",
        "colab": {
          "base_uri": "https://localhost:8080/",
          "height": 67
        },
        "outputId": "39f81808-0f8a-4848-a653-2e7e24072c92"
      },
      "source": [
        "# Python program to calculate  area and perimeter of a square\n",
        "\n",
        "s=int(input(\"Side : \"))\n",
        "area=s*s\n",
        "perimeter=4*s\n",
        "print(\"Area of Rectangle : \",area)\n",
        "print(\"Perimeter of Rectangle : \",perimeter)"
      ],
      "execution_count": 7,
      "outputs": [
        {
          "output_type": "stream",
          "text": [
            "Side : 5\n",
            "Area of Rectangle :  25\n",
            "Perimeter of Rectangle :  20\n"
          ],
          "name": "stdout"
        }
      ]
    },
    {
      "cell_type": "code",
      "metadata": {
        "id": "pwncOih_lgHg",
        "colab_type": "code",
        "colab": {
          "base_uri": "https://localhost:8080/",
          "height": 84
        },
        "outputId": "c6716a66-dcf5-440b-aa34-d2c1688ad0d6"
      },
      "source": [
        "\n",
        "# Python program to swap two numbers\n",
        "\n",
        "x = input('Enter value of x: ')\n",
        "y = input('Enter value of y: ')\n",
        "# create a temporary variable and swap the values\n",
        "temp = x\n",
        "x = y\n",
        "y = temp\n",
        "print('The value of x after swapping: {}'.format(x))\n",
        "print('The value of y after swapping: {}'.format(y))"
      ],
      "execution_count": 8,
      "outputs": [
        {
          "output_type": "stream",
          "text": [
            "Enter value of x: 3\n",
            "Enter value of y: 5\n",
            "The value of x after swapping: 5\n",
            "The value of y after swapping: 3\n"
          ],
          "name": "stdout"
        }
      ]
    },
    {
      "cell_type": "code",
      "metadata": {
        "id": "MzLfWKqdlob4",
        "colab_type": "code",
        "colab": {
          "base_uri": "https://localhost:8080/",
          "height": 202
        },
        "outputId": "32149561-d8d5-43eb-93a7-c0557a1074cf"
      },
      "source": [
        "\n",
        "# Python program to design a simple calculator for the operators\n",
        "\n",
        "def add(x, y):\n",
        "    return x + y\n",
        "\n",
        "def subtract(x, y):\n",
        "    return x - y\n",
        "\n",
        "def multiply(x, y):\n",
        "    return x * y\n",
        "\n",
        "def divide(x, y):\n",
        "    return x / y\n",
        "\n",
        "def exponent(x, y):\n",
        "    return x ** y\n",
        "\n",
        "def floordivision(x, y):\n",
        "    return x // y\n",
        "\n",
        "print(\"Select operation.\")\n",
        "print(\"1.Add\")\n",
        "print(\"2.Subtract\")\n",
        "print(\"3.Multiply\")\n",
        "print(\"4.Divide\")\n",
        "print(\"5.Exponent\")\n",
        "print(\"6.Floordivision\")\n",
        "while True:\n",
        "    # Take input from the user\n",
        "    choice = input(\"Enter choice(1/2/3/4/5/6): \")\n",
        "\n",
        "    # Check if choice is one of the four options\n",
        "    if choice in ('1', '2', '3', '4','5','6'):\n",
        "        num1 = float(input(\"Enter first number: \"))\n",
        "        num2 = float(input(\"Enter second number: \"))\n",
        "\n",
        "        if choice == '1':\n",
        "            print(num1, \"+\", num2, \"=\", add(num1, num2))\n",
        "\n",
        "        elif choice == '2':\n",
        "            print(num1, \"-\", num2, \"=\", subtract(num1, num2))\n",
        "\n",
        "        elif choice == '3':\n",
        "            print(num1, \"*\", num2, \"=\", multiply(num1, num2))\n",
        "\n",
        "        elif choice == '4':\n",
        "            print(num1, \"/\", num2, \"=\", divide(num1, num2))\n",
        "\n",
        "        elif choice == '5':\n",
        "            print(num1,\"**\",num2,\"=\",exponent(num1, num2))\n",
        "\n",
        "        elif choice == '6':\n",
        "            print(num1,\"//\",num2,\"=\",floordivision(num1, num2))    \n",
        "\n",
        "        break\n",
        "\n",
        "    else:\n",
        "        print(\"Invalid Input\")"
      ],
      "execution_count": 9,
      "outputs": [
        {
          "output_type": "stream",
          "text": [
            "Select operation.\n",
            "1.Add\n",
            "2.Subtract\n",
            "3.Multiply\n",
            "4.Divide\n",
            "5.Exponent\n",
            "6.Floordivision\n",
            "Enter choice(1/2/3/4/5/6): 6\n",
            "Enter first number: 2\n",
            "Enter second number: 3\n",
            "2.0 // 3.0 = 0.0\n"
          ],
          "name": "stdout"
        }
      ]
    },
    {
      "cell_type": "code",
      "metadata": {
        "id": "GgJ-kz-klyum",
        "colab_type": "code",
        "colab": {}
      },
      "source": [
        ""
      ],
      "execution_count": null,
      "outputs": []
    }
  ]
}